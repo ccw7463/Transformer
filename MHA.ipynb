{
 "cells": [
  {
   "cell_type": "code",
   "execution_count": 57,
   "metadata": {},
   "outputs": [],
   "source": [
    "import torch\n",
    "import torch.nn as nn\n",
    "\n",
    "class MultiHeadAttention(nn.Module):\n",
    "    def __init__(self, embed_size, heads):\n",
    "        super(MultiHeadAttention, self).__init__()\n",
    "        self.embed_size = embed_size\n",
    "        self.heads = heads\n",
    "        self.head_dim = embed_size // heads\n",
    "        \n",
    "        assert (\n",
    "            self.head_dim * heads == embed_size\n",
    "        ), \"Embedding size needs to be divisible by heads\"\n",
    "\n",
    "        self.linear_v = nn.Linear(self.head_dim, self.head_dim, bias=False)\n",
    "        self.linear_k = nn.Linear(self.head_dim, self.head_dim, bias=False)\n",
    "        self.linear_q = nn.Linear(self.head_dim, self.head_dim, bias=False)\n",
    "        self.fc_out = nn.Linear(heads * self.head_dim, embed_size)\n",
    "\n",
    "    def forward(self, values, keys, query, mask):\n",
    "        print(f\"==== 기본 정보 ====\")\n",
    "        print(f\"embedding size는 {self.embed_size} 입니다.\")\n",
    "        print(f\"heads 수는 {self.heads} 입니다.\")\n",
    "        print(f\"head의 dimension은 {self.head_dim} 입니다.\")\n",
    "        print('\\n')\n",
    "        print(f\"==== 초기 정보 ====\")\n",
    "        print(f\"values.shape : {values.shape}\")\n",
    "        print(f\"keys.shape : {keys.shape}\")\n",
    "        print(f\"query.shape : {query.shape}\")\n",
    "        if mask != None:\n",
    "            print(f\"mask.shape : {mask.shape}\")\n",
    "        \n",
    "        N = query.shape[0]\n",
    "        value_len, key_len, query_len = values.shape[1], keys.shape[1], query.shape[1]\n",
    "\n",
    "        # q,k,v 분할 (head 수로)\n",
    "        values = values.reshape(N, value_len, self.heads, self.head_dim)\n",
    "        keys = keys.reshape(N, key_len, self.heads, self.head_dim)\n",
    "        queries = query.reshape(N, query_len, self.heads, self.head_dim)\n",
    "        print('\\n')\n",
    "        print(f\"==== Multi-Head에 의해 분할합니다 ====\")\n",
    "        print(f\"values.shape : {values.shape}\")\n",
    "        print(f\"keys.shape : {keys.shape}\")\n",
    "        print(f\"query.shape : {queries.shape}\")\n",
    "\n",
    "        values = self.linear_v(values)\n",
    "        keys = self.linear_k(keys)\n",
    "        queries = self.linear_q(queries)\n",
    "        print('\\n')\n",
    "        print(\"==== 선형레이어를 통과합니다. ====\")\n",
    "        print(f\"최종 values.shape : {values.shape}\")\n",
    "        print(f\"최종 keys.shape : {keys.shape}\")\n",
    "        print(f\"최종 query.shape : {queries.shape}\")\n",
    "\n",
    "        # Attention 수행 (최종 shape 형태 : [batch, head, query, key])\n",
    "        print('\\n')\n",
    "        print(\"==== Attention 연산을 수행합니다. ====\")\n",
    "        attention_score = torch.einsum(\"nqhd,nkhd->nhqk\", [queries, keys])\n",
    "        print(f\"attention_score shape: {attention_score.shape}\")\n",
    "        if mask is not None:\n",
    "            attention_score = attention_score.masked_fill(mask == 0, float(\"-1e20\"))\n",
    "            \n",
    "        attention_distribution = torch.softmax(attention_score / (self.embed_size ** (1/2)), dim=3)\n",
    "        print(f\"attention_distribution shape: {attention_distribution.shape}\")\n",
    "\n",
    "        attention_value_matrix = torch.einsum(\"nhql,nlhd->nqhd\", [attention_distribution, values]).reshape(\n",
    "            N, query_len, self.heads * self.head_dim\n",
    "        )\n",
    "        print(f\"attention_value_matrix shape : {attention_value_matrix.shape}\")\n",
    "        \n",
    "        out = self.fc_out(attention_value_matrix)\n",
    "        print(f\"out shape : {out.shape}\")\n",
    "        return out\n"
   ]
  },
  {
   "cell_type": "code",
   "execution_count": 58,
   "metadata": {},
   "outputs": [],
   "source": [
    "# MHA 레이어 객체 지정\n",
    "embed_size = 256\n",
    "heads = 8\n",
    "attention = MultiHeadAttention(embed_size, heads)"
   ]
  },
  {
   "cell_type": "code",
   "execution_count": 66,
   "metadata": {},
   "outputs": [
    {
     "name": "stdout",
     "output_type": "stream",
     "text": [
      "==== 기본 정보 ====\n",
      "embedding size는 256 입니다.\n",
      "heads 수는 8 입니다.\n",
      "head의 dimension은 32 입니다.\n",
      "\n",
      "\n",
      "==== 초기 정보 ====\n",
      "values.shape : torch.Size([1, 4, 256])\n",
      "keys.shape : torch.Size([1, 4, 256])\n",
      "query.shape : torch.Size([1, 4, 256])\n",
      "\n",
      "\n",
      "==== Multi-Head에 의해 분할합니다 ====\n",
      "values.shape : torch.Size([1, 4, 8, 32])\n",
      "keys.shape : torch.Size([1, 4, 8, 32])\n",
      "query.shape : torch.Size([1, 4, 8, 32])\n",
      "\n",
      "\n",
      "==== 선형레이어를 통과합니다. ====\n",
      "최종 values.shape : torch.Size([1, 4, 8, 32])\n",
      "최종 keys.shape : torch.Size([1, 4, 8, 32])\n",
      "최종 query.shape : torch.Size([1, 4, 8, 32])\n",
      "\n",
      "\n",
      "==== Attention 연산을 수행합니다. ====\n",
      "attention_score shape: torch.Size([1, 8, 4, 4])\n",
      "attention_distribution shape: torch.Size([1, 8, 4, 4])\n",
      "attention_value_matrix shape : torch.Size([1, 4, 256])\n",
      "out shape : torch.Size([1, 4, 256])\n"
     ]
    }
   ],
   "source": [
    "# 더미 입력 데이터 생성\n",
    "N, seq_length = 1, 4  # 배치 크기와 시퀀스 길이\n",
    "dummy_values = torch.rand((N, seq_length, embed_size))\n",
    "dummy_keys = torch.rand((N, seq_length, embed_size))\n",
    "dummy_query = torch.rand((N, seq_length, embed_size))\n",
    "dummy_mask = None  # 필요한 경우 마스크를 사용할 수 있습니다.\n",
    "\n",
    "# 멀티 헤드 주의 레이어 실행\n",
    "output = attention(dummy_values, dummy_keys, dummy_query, dummy_mask)"
   ]
  },
  {
   "cell_type": "code",
   "execution_count": 69,
   "metadata": {},
   "outputs": [
    {
     "name": "stdout",
     "output_type": "stream",
     "text": [
      "torch.Size([1, 4, 256])\n",
      "tensor([[[-0.0977, -0.0988, -0.2643,  ...,  0.1221,  0.0456, -0.4240],\n",
      "         [-0.0977, -0.0985, -0.2649,  ...,  0.1224,  0.0457, -0.4237],\n",
      "         [-0.0971, -0.0985, -0.2653,  ...,  0.1220,  0.0469, -0.4233],\n",
      "         [-0.0978, -0.0987, -0.2644,  ...,  0.1225,  0.0456, -0.4239]]],\n",
      "       grad_fn=<ViewBackward0>)\n"
     ]
    }
   ],
   "source": [
    "print(output.shape)  # 출력의 차원 확인\n",
    "print(output)"
   ]
  }
 ],
 "metadata": {
  "kernelspec": {
   "display_name": "Python 3",
   "language": "python",
   "name": "python3"
  },
  "language_info": {
   "codemirror_mode": {
    "name": "ipython",
    "version": 3
   },
   "file_extension": ".py",
   "mimetype": "text/x-python",
   "name": "python",
   "nbconvert_exporter": "python",
   "pygments_lexer": "ipython3",
   "version": "3.8.10"
  }
 },
 "nbformat": 4,
 "nbformat_minor": 2
}
